{
 "cells": [
  {
   "cell_type": "markdown",
   "metadata": {},
   "source": [
    "Information = {Timestamp, VWAP, OHLC, Volume}\n",
    "\n",
    "Time Bars = Information gathered at given time intervals\n",
    "\n",
    "Tick Bars = Information extracted each time a predefined number of \"transactions\" takes place\n",
    "\n",
    "Volume Bars = Sampling every time a pre-defined amount of the security's \"units\" have been exchanged\n",
    "\n",
    "Dollar Bars = Sampling every time a pre-defined \"market value\" is exchanged\n",
    "\n",
    "\n",
    "### Tick Imbalance Bars\n",
    "$sequence\\ of\\ ticks\\ =\\ {(p_t, v_t)}_{t=1, ..., T}$\n",
    "\n",
    "$P_t$ = Price\n",
    "\n",
    "$v_t$ = Volume\n",
    "\n",
    "$sequence\\ (b_t)_{t=1, ...,T}$\n",
    "\n",
    "$ b_t=\\begin{cases}b_{t-1},  & \\text{if}\\ \\Delta p_t = 0 \\\\ \\frac{|\\Delta p_t|}{\\Delta p_t} ,& \\text{if}\\ \\Delta p_t \\neq 0 \\end{cases} $\n",
    "\n",
    "\n",
    "$ \\theta_T = \\sum^T_{t=1} b_t $\n",
    "\n",
    "$ T = tick\\ index $"
   ]
  },
  {
   "cell_type": "markdown",
   "metadata": {},
   "source": []
  },
  {
   "cell_type": "code",
   "execution_count": null,
   "metadata": {},
   "outputs": [],
   "source": [
    "import pandas as pd\n",
    "import numpy as np\n",
    "import matplotlib.pyplot as plt"
   ]
  }
 ],
 "metadata": {
  "kernelspec": {
   "display_name": "finance",
   "language": "python",
   "name": "python3"
  },
  "language_info": {
   "name": "python",
   "version": "3.11.0"
  },
  "orig_nbformat": 4
 },
 "nbformat": 4,
 "nbformat_minor": 2
}
