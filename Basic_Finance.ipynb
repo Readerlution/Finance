{
 "cells": [
  {
   "cell_type": "code",
   "execution_count": 4,
   "metadata": {},
   "outputs": [],
   "source": [
    "import numpy as np\n",
    "import pandas as pd\n",
    "import matplotlib.pyplot as plt\n",
    "from scipy.stats import norm\n",
    "from scipy.optimize import minimize\n"
   ]
  },
  {
   "cell_type": "markdown",
   "metadata": {},
   "source": [
    "# Simple Interest"
   ]
  },
  {
   "cell_type": "code",
   "execution_count": 5,
   "metadata": {},
   "outputs": [],
   "source": [
    "def simple_fv(pv: float, r: float, n: int = 1):\n",
    "    return (1 + r * n) * pv\n",
    "\n",
    "def simple_pv(fv: float, r: float, n: int = 1):\n",
    "    return fv / (1 + r * n)\n",
    "\n",
    "def simple_r(pv: float, fv: float, n: int = 1):\n",
    "    return ((fv/pv) - 1) / n"
   ]
  },
  {
   "cell_type": "code",
   "execution_count": 6,
   "metadata": {},
   "outputs": [
    {
     "name": "stdout",
     "output_type": "stream",
     "text": [
      "FV: 3500.00\n",
      "PV: 1000.00\n",
      "Interest Rate: 5.00%\n"
     ]
    }
   ],
   "source": [
    "s = 1000\n",
    "r = .05\n",
    "n = 50\n",
    "\n",
    "fv = simple_fv(s, r, n)\n",
    "pv = simple_pv(fv, r, n)\n",
    "rate = simple_r(pv, fv, n)\n",
    "\n",
    "print(f\"FV: {fv:.2f}\\nPV: {pv:.2f}\\nInterest Rate: {rate * 100:.2f}%\")"
   ]
  },
  {
   "cell_type": "markdown",
   "metadata": {},
   "source": [
    "# Compound Interest"
   ]
  },
  {
   "cell_type": "code",
   "execution_count": 7,
   "metadata": {},
   "outputs": [
    {
     "name": "stdout",
     "output_type": "stream",
     "text": [
      "FV: 11467.40\n",
      "PV: 1000.00\n",
      "Interest Rate: 5.00%\n"
     ]
    }
   ],
   "source": [
    "def compound_fv(pv, r: float, n: int):\n",
    "    return pv * (1+r)**n\n",
    "\n",
    "def compound_pv(fv, r: float, n:int):\n",
    "    return fv / (1+r)**n\n",
    "\n",
    "def compound_r(pv, fv, n:int):\n",
    "    return (fv/pv)**(1/n) - 1\n",
    "\n",
    "fv = compound_fv(s, r, n)\n",
    "pv = compound_pv(fv, r, n)\n",
    "rate = compound_r(pv,fv, n)\n",
    "\n",
    "print(f\"FV: {fv:.2f}\\nPV: {pv:.2f}\\nInterest Rate: {r * 100:.2f}%\")"
   ]
  },
  {
   "cell_type": "code",
   "execution_count": 8,
   "metadata": {},
   "outputs": [
    {
     "name": "stdout",
     "output_type": "stream",
     "text": [
      "FV: 12119.38\n",
      "PV: 1000.00\n",
      "Interest Rate: 5.00%\n"
     ]
    }
   ],
   "source": [
    "def interval_fv(pv, r: float, m: int, n: int):\n",
    "    return (((1 + r / m)**(n*m))) * pv\n",
    "\n",
    "def interval_pv(fv, r:float, m: int, n: int):\n",
    "    return fv / ((1+ r / m)**(n*m))\n",
    "\n",
    "def interval_r(pv, fv, m: int, n: int):\n",
    "    return ( ((fv/pv)**(1/m*n)) - 1 ) * m\n",
    "\n",
    "m = 12\n",
    "\n",
    "fv = interval_fv(s, r, m, n)\n",
    "pv = interval_pv(fv, r, m, n)\n",
    "rate = interval_r(pv, fv, m, n)\n",
    "\n",
    "print(f\"FV: {fv:.2f}\\nPV: {pv:.2f}\\nInterest Rate: {r * 100:.2f}%\")"
   ]
  },
  {
   "cell_type": "code",
   "execution_count": 9,
   "metadata": {},
   "outputs": [
    {
     "name": "stdout",
     "output_type": "stream",
     "text": [
      "FV: 12182.49\n",
      "PV: 1000.00\n",
      "Interest Rate: 5.00%\n"
     ]
    }
   ],
   "source": [
    "def continuous_fv(pv, r: float, n:int):\n",
    "    return np.exp(r*n) * pv\n",
    "\n",
    "def continuous_pv(fv, r:float, n:int):\n",
    "    return np.exp(-r*n) * fv\n",
    "\n",
    "def continuous_r(pv, fv, n: int):\n",
    "    return np.log(fv/pv) / n\n",
    "\n",
    "fv = continuous_fv(s, r, n)\n",
    "pv = continuous_pv(fv, r, n)\n",
    "rate = continuous_pv(pv, fv, n)\n",
    "\n",
    "print(f\"FV: {fv:.2f}\\nPV: {pv:.2f}\\nInterest Rate: {r * 100:.2f}%\")"
   ]
  },
  {
   "cell_type": "markdown",
   "metadata": {},
   "source": [
    "# Periodic Deposit"
   ]
  },
  {
   "cell_type": "code",
   "execution_count": 10,
   "metadata": {},
   "outputs": [],
   "source": [
    "A = 100"
   ]
  },
  {
   "cell_type": "code",
   "execution_count": 11,
   "metadata": {},
   "outputs": [],
   "source": [
    "def deposit_fv(r: float, n: int, m: int, a: float):\n",
    "    return (a / (r/m)) * ((1 + r/m)**(m*n) - 1)\n",
    "\n",
    "def deposit_pv(r: float, n: int, m: int, a: float):\n",
    "    return (a / (r/m)) * (1 - 1/(1+ r/m)**(m*n))"
   ]
  },
  {
   "cell_type": "code",
   "execution_count": 15,
   "metadata": {},
   "outputs": [
    {
     "name": "stdout",
     "output_type": "stream",
     "text": [
      "FV: 266865.20\n",
      "PV: 22019.70\n"
     ]
    }
   ],
   "source": [
    "fv = deposit_fv(r, n, m, A)\n",
    "pv = deposit_pv(r, n, m, A)\n",
    "\n",
    "print(f\"FV: {fv:.2f}\\nPV: {pv:.2f}\")"
   ]
  },
  {
   "cell_type": "markdown",
   "metadata": {},
   "source": [
    "# Option Pricing Model"
   ]
  },
  {
   "cell_type": "code",
   "execution_count": 1,
   "metadata": {},
   "outputs": [],
   "source": [
    "def binomial(R, Pu, Pd, u, d):\n",
    "    \"\"\"\n",
    "    Option Price for 1 step\n",
    "    R = discount rate = e^(r x delta x t)\n",
    "    r = risk free rate\n",
    "    Pu = probability up\n",
    "    Pd = probability down\n",
    "    u = up scenario move = e^(sigma x sqr_root(delta x t))\n",
    "    d = down scenario move = e^(sigma x sqr_root(delta x t))\n",
    "    q = \n",
    "    \"\"\"\n",
    "    q = (R-d)/(u-d)\n",
    "    return (1/R) * ( q * Pu + (1-q)*Pd )\n",
    "\n"
   ]
  },
  {
   "cell_type": "code",
   "execution_count": null,
   "metadata": {},
   "outputs": [],
   "source": [
    "# Black Scholes\n",
    "class BlackScholes:\n",
    "    pass"
   ]
  }
 ],
 "metadata": {
  "kernelspec": {
   "display_name": "finance",
   "language": "python",
   "name": "python3"
  },
  "language_info": {
   "codemirror_mode": {
    "name": "ipython",
    "version": 3
   },
   "file_extension": ".py",
   "mimetype": "text/x-python",
   "name": "python",
   "nbconvert_exporter": "python",
   "pygments_lexer": "ipython3",
   "version": "3.11.0"
  },
  "orig_nbformat": 4
 },
 "nbformat": 4,
 "nbformat_minor": 2
}
