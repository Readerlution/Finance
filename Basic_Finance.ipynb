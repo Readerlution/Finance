{
 "cells": [
  {
   "cell_type": "code",
   "execution_count": 1,
   "metadata": {},
   "outputs": [],
   "source": [
    "import numpy as np\n",
    "import pandas as pd\n",
    "import matplotlib.pyplot as plt\n",
    "from scipy.stats import norm\n",
    "from scipy.optimize import minimize\n"
   ]
  },
  {
   "cell_type": "code",
   "execution_count": 2,
   "metadata": {},
   "outputs": [],
   "source": [
    "def simple_fv(pv: float, r: float, n: int = 1):\n",
    "    return (1 + r * n) * pv\n",
    "\n",
    "def simple_pv(fv: float, r: float, n: int = 1):\n",
    "    return fv / (1 + r * n)\n",
    "\n",
    "def r_simple(pv: float, fv: float, n: int = 1):\n",
    "    return ((fv/pv) - 1) / n"
   ]
  },
  {
   "cell_type": "code",
   "execution_count": 3,
   "metadata": {},
   "outputs": [
    {
     "name": "stdout",
     "output_type": "stream",
     "text": [
      "FV: 3500.00\n",
      "PV: 1000.00\n",
      "Interest Rate: 5.00%\n"
     ]
    }
   ],
   "source": [
    "s = 1000\n",
    "r = .05\n",
    "n = 50\n",
    "\n",
    "fv = simple_fv(s, r, n)\n",
    "pv = simple_pv(fv, r, n)\n",
    "rate = r_simple(pv, fv, n)\n",
    "\n",
    "print(f\"FV: {fv:.2f}\\nPV: {pv:.2f}\\nInterest Rate: {rate * 100:.2f}%\")"
   ]
  },
  {
   "cell_type": "code",
   "execution_count": 5,
   "metadata": {},
   "outputs": [
    {
     "name": "stdout",
     "output_type": "stream",
     "text": [
      "FV: 11467.40\n",
      "PV: 1000.00\n",
      "Interest Rate: 5.00%\n"
     ]
    }
   ],
   "source": [
    "def compound_fv(pv, r: float, n: int):\n",
    "    return pv * (1+r)**n\n",
    "\n",
    "def compound_pv(fv, r: float, n:int):\n",
    "    return fv / (1+r)**n\n",
    "\n",
    "def r_compound(pv, fv, n:int):\n",
    "    return (fv/pv)**(1/n) - 1\n",
    "\n",
    "fv = compound_fv(s, r, n)\n",
    "pv = compound_pv(fv, r, n)\n",
    "rate = r_compound(pv,fv, n)\n",
    "\n",
    "print(f\"FV: {fv:.2f}\\nPV: {pv:.2f}\\nInterest Rate: {r * 100:.2f}%\")"
   ]
  },
  {
   "cell_type": "code",
   "execution_count": null,
   "metadata": {},
   "outputs": [],
   "source": []
  },
  {
   "cell_type": "code",
   "execution_count": null,
   "metadata": {},
   "outputs": [],
   "source": []
  }
 ],
 "metadata": {
  "kernelspec": {
   "display_name": "finance",
   "language": "python",
   "name": "python3"
  },
  "language_info": {
   "codemirror_mode": {
    "name": "ipython",
    "version": 3
   },
   "file_extension": ".py",
   "mimetype": "text/x-python",
   "name": "python",
   "nbconvert_exporter": "python",
   "pygments_lexer": "ipython3",
   "version": "3.11.0"
  },
  "orig_nbformat": 4
 },
 "nbformat": 4,
 "nbformat_minor": 2
}
