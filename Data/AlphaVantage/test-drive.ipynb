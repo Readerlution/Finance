{
 "cells": [
  {
   "cell_type": "code",
   "execution_count": 1,
   "metadata": {},
   "outputs": [
    {
     "name": "stderr",
     "output_type": "stream",
     "text": [
      "d:\\Mini_Conda\\envs\\finance\\Lib\\site-packages\\pydantic\\_internal\\_fields.py:149: UserWarning: Field \"model_directory\" has conflict with protected namespace \"model_\".\n",
      "\n",
      "You may be able to resolve this warning by setting `model_config['protected_namespaces'] = ('settings_',)`.\n",
      "  warnings.warn(\n"
     ]
    }
   ],
   "source": [
    "%load_ext autoreload\n",
    "%load_ext sql\n",
    "%autoreload\n",
    "\n",
    "import sqlite3\n",
    "\n",
    "import matplotlib.pyplot as plt\n",
    "import pandas as pd\n",
    "from config import settings"
   ]
  },
  {
   "cell_type": "code",
   "execution_count": 2,
   "metadata": {},
   "outputs": [],
   "source": [
    "from data import SQLRepository, AlphaVantageAPI\n",
    "connection = sqlite3.connect(database=settings.db_name, check_same_thread=False)\n",
    "av = AlphaVantageAPI()\n",
    "repo = SQLRepository(connection=connection)\n",
    "\n",
    "assert hasattr(repo, \"connection\")\n",
    "assert isinstance(repo.connection, sqlite3.Connection)"
   ]
  },
  {
   "cell_type": "code",
   "execution_count": 3,
   "metadata": {},
   "outputs": [
    {
     "data": {
      "text/plain": [
       "{'transaction_successful': True, 'records_inserted': 4679}"
      ]
     },
     "execution_count": 3,
     "metadata": {},
     "output_type": "execute_result"
    }
   ],
   "source": [
    "ticker = \"AMBUJACEM.BSE\"\n",
    "\n",
    "ambuja_records = av.get_daily(ticker=ticker)\n",
    "\n",
    "response = repo.insert_table(ticker, ambuja_records, if_exists=\"replace\")\n",
    "\n",
    "response"
   ]
  },
  {
   "cell_type": "code",
   "execution_count": 4,
   "metadata": {},
   "outputs": [
    {
     "data": {
      "text/html": [
       "<div>\n",
       "<style scoped>\n",
       "    .dataframe tbody tr th:only-of-type {\n",
       "        vertical-align: middle;\n",
       "    }\n",
       "\n",
       "    .dataframe tbody tr th {\n",
       "        vertical-align: top;\n",
       "    }\n",
       "\n",
       "    .dataframe thead th {\n",
       "        text-align: right;\n",
       "    }\n",
       "</style>\n",
       "<table border=\"1\" class=\"dataframe\">\n",
       "  <thead>\n",
       "    <tr style=\"text-align: right;\">\n",
       "      <th></th>\n",
       "      <th>open</th>\n",
       "      <th>high</th>\n",
       "      <th>low</th>\n",
       "      <th>close</th>\n",
       "      <th>volume</th>\n",
       "    </tr>\n",
       "    <tr>\n",
       "      <th>date</th>\n",
       "      <th></th>\n",
       "      <th></th>\n",
       "      <th></th>\n",
       "      <th></th>\n",
       "      <th></th>\n",
       "    </tr>\n",
       "  </thead>\n",
       "  <tbody>\n",
       "    <tr>\n",
       "      <th>2023-12-29</th>\n",
       "      <td>511.55</td>\n",
       "      <td>522.30</td>\n",
       "      <td>511.30</td>\n",
       "      <td>520.95</td>\n",
       "      <td>179989.0</td>\n",
       "    </tr>\n",
       "    <tr>\n",
       "      <th>2023-12-28</th>\n",
       "      <td>517.35</td>\n",
       "      <td>519.75</td>\n",
       "      <td>512.20</td>\n",
       "      <td>514.25</td>\n",
       "      <td>69935.0</td>\n",
       "    </tr>\n",
       "    <tr>\n",
       "      <th>2023-12-27</th>\n",
       "      <td>520.05</td>\n",
       "      <td>523.00</td>\n",
       "      <td>513.25</td>\n",
       "      <td>516.40</td>\n",
       "      <td>218846.0</td>\n",
       "    </tr>\n",
       "    <tr>\n",
       "      <th>2023-12-26</th>\n",
       "      <td>503.80</td>\n",
       "      <td>508.50</td>\n",
       "      <td>502.95</td>\n",
       "      <td>505.15</td>\n",
       "      <td>114257.0</td>\n",
       "    </tr>\n",
       "    <tr>\n",
       "      <th>2023-12-22</th>\n",
       "      <td>505.65</td>\n",
       "      <td>509.45</td>\n",
       "      <td>498.20</td>\n",
       "      <td>503.80</td>\n",
       "      <td>85760.0</td>\n",
       "    </tr>\n",
       "    <tr>\n",
       "      <th>...</th>\n",
       "      <td>...</td>\n",
       "      <td>...</td>\n",
       "      <td>...</td>\n",
       "      <td>...</td>\n",
       "      <td>...</td>\n",
       "    </tr>\n",
       "    <tr>\n",
       "      <th>2013-11-07</th>\n",
       "      <td>180.65</td>\n",
       "      <td>184.30</td>\n",
       "      <td>178.65</td>\n",
       "      <td>180.25</td>\n",
       "      <td>96910.0</td>\n",
       "    </tr>\n",
       "    <tr>\n",
       "      <th>2013-11-06</th>\n",
       "      <td>185.60</td>\n",
       "      <td>186.50</td>\n",
       "      <td>180.10</td>\n",
       "      <td>180.60</td>\n",
       "      <td>166449.0</td>\n",
       "    </tr>\n",
       "    <tr>\n",
       "      <th>2013-11-05</th>\n",
       "      <td>188.45</td>\n",
       "      <td>190.35</td>\n",
       "      <td>185.50</td>\n",
       "      <td>186.55</td>\n",
       "      <td>78655.0</td>\n",
       "    </tr>\n",
       "    <tr>\n",
       "      <th>2013-11-01</th>\n",
       "      <td>189.00</td>\n",
       "      <td>190.50</td>\n",
       "      <td>187.30</td>\n",
       "      <td>188.05</td>\n",
       "      <td>107439.0</td>\n",
       "    </tr>\n",
       "    <tr>\n",
       "      <th>2013-10-31</th>\n",
       "      <td>192.00</td>\n",
       "      <td>192.60</td>\n",
       "      <td>187.00</td>\n",
       "      <td>188.45</td>\n",
       "      <td>155639.0</td>\n",
       "    </tr>\n",
       "  </tbody>\n",
       "</table>\n",
       "<p>2500 rows × 5 columns</p>\n",
       "</div>"
      ],
      "text/plain": [
       "              open    high     low   close    volume\n",
       "date                                                \n",
       "2023-12-29  511.55  522.30  511.30  520.95  179989.0\n",
       "2023-12-28  517.35  519.75  512.20  514.25   69935.0\n",
       "2023-12-27  520.05  523.00  513.25  516.40  218846.0\n",
       "2023-12-26  503.80  508.50  502.95  505.15  114257.0\n",
       "2023-12-22  505.65  509.45  498.20  503.80   85760.0\n",
       "...            ...     ...     ...     ...       ...\n",
       "2013-11-07  180.65  184.30  178.65  180.25   96910.0\n",
       "2013-11-06  185.60  186.50  180.10  180.60  166449.0\n",
       "2013-11-05  188.45  190.35  185.50  186.55   78655.0\n",
       "2013-11-01  189.00  190.50  187.30  188.05  107439.0\n",
       "2013-10-31  192.00  192.60  187.00  188.45  155639.0\n",
       "\n",
       "[2500 rows x 5 columns]"
      ]
     },
     "execution_count": 4,
     "metadata": {},
     "output_type": "execute_result"
    }
   ],
   "source": [
    "df_ambuja = repo.read_table(table_name=ticker, limit=2500)\n",
    "df_ambuja"
   ]
  },
  {
   "cell_type": "code",
   "execution_count": null,
   "metadata": {},
   "outputs": [],
   "source": []
  }
 ],
 "metadata": {
  "kernelspec": {
   "display_name": "finance",
   "language": "python",
   "name": "python3"
  },
  "language_info": {
   "codemirror_mode": {
    "name": "ipython",
    "version": 3
   },
   "file_extension": ".py",
   "mimetype": "text/x-python",
   "name": "python",
   "nbconvert_exporter": "python",
   "pygments_lexer": "ipython3",
   "version": "3.11.0"
  }
 },
 "nbformat": 4,
 "nbformat_minor": 2
}
