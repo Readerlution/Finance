{
 "cells": [
  {
   "cell_type": "code",
   "execution_count": 1,
   "metadata": {},
   "outputs": [],
   "source": [
    "from pykrx import stock\n",
    "import pandas as pd\n",
    "import numpy as np\n",
    "import json\n",
    "from datetime import datetime"
   ]
  },
  {
   "cell_type": "code",
   "execution_count": 2,
   "metadata": {},
   "outputs": [],
   "source": [
    "import plotly.io as pio\n",
    "import plotly.graph_objects as go\n",
    "from plotly.subplots import make_subplots\n",
    "\n",
    "pio.renderers.default='browser'  \n",
    "\n",
    "def get_candlestick_chart(df: pd.DataFrame):  \n",
    "\n",
    "    # Make Plots\n",
    "    fig = make_subplots(\n",
    "        rows=3,\n",
    "        cols=1,\n",
    "        shared_xaxes=True,\n",
    "        vertical_spacing=0.1,\n",
    "        subplot_titles=(f\"Stock Price\", \"Volume\", \"RangePerVolume\")\n",
    "    )\n",
    "\n",
    "    # Remove holidays\n",
    "    dt_all = pd.date_range(start=df.index[0], end=df.index[-1])\n",
    "    dt_breaks = [ d for d in dt_all.strftime(\"%Y-%m-%d\").to_list() if not d in df.index.astype('str').to_list() ]\n",
    "    fig.update_xaxes(rangebreaks=[dict(values=dt_breaks)])\n",
    "\n",
    "    # Candle Sticks Box\n",
    "    fig.add_trace(\n",
    "        go.Candlestick(\n",
    "            x = df.index,\n",
    "            open = df['시가'], \n",
    "            high = df['고가'],\n",
    "            low = df['저가'],\n",
    "            close = df['종가'],\n",
    "            name = 'Candlestick chart'\n",
    "        ),\n",
    "        row = 1,\n",
    "        col = 1\n",
    "    ) \n",
    "\n",
    "    # Moving Averages\n",
    "    ma_list = [5, 20, 60, 120]\n",
    "    color_list = [\"green\", \"red\", \"orange\", \"purple\"]\n",
    "\n",
    "    for i, c in zip(ma_list, color_list):\n",
    "        df[f\"MA{i}\"] = df['종가'].rolling(window=i).mean()\n",
    "        fig.add_trace(\n",
    "                go.Scatter(\n",
    "                x=df.index,\n",
    "                y=df[f\"MA{i}\"],\n",
    "                opacity=0.2,\n",
    "                line=dict(color=f\"{c}\", width=2),\n",
    "                name=f\"MA {i}\"\n",
    "            ),\n",
    "            row=1,\n",
    "            col=1\n",
    "        )\n",
    "\n",
    "    # Volume Box\n",
    "    fig.add_trace(\n",
    "        go.Bar(x = df.index, y = df[\"거래량\"], name=\"Volume\"),\n",
    "        row=2,\n",
    "        col=1\n",
    "    )\n",
    "\n",
    "    # Range Per Volume Box\n",
    "    fig.add_trace(\n",
    "        go.Bar(x = df.index, y = df[\"RangePerVolume\"], name=\"RangePerVolume\"),\n",
    "        row=3,\n",
    "        col=1\n",
    "    )\n",
    "\n",
    "    fig['layout']['xaxis2']['title'] = \"Date\"\n",
    "    fig['layout']['yaxis']['title'] = \"Price\"\n",
    "    fig['layout']['yaxis2']['title'] = \"Volume\"\n",
    "    fig['layout']['yaxis3']['title'] = \"RangePerVolume\"\n",
    "\n",
    "    # Remove range slider\n",
    "    fig.update_xaxes(\n",
    "        rangeslider_visible = False,\n",
    "        ) \n",
    "\n",
    "    return fig"
   ]
  },
  {
   "cell_type": "code",
   "execution_count": 3,
   "metadata": {},
   "outputs": [],
   "source": [
    "# tickers = stock.get_market_ticker_list(market=\"KOSPI\")\n",
    "# ticker_name = {stock.get_market_ticker_name(ticker):ticker for ticker in tickers}\n",
    "# with open(\"KOSDAQ.json\", \"w\") as of:\n",
    "#     json.dump(ticker_name, of)"
   ]
  },
  {
   "cell_type": "code",
   "execution_count": 4,
   "metadata": {},
   "outputs": [],
   "source": [
    "with open(\"KOSPI.json\", \"r\") as f:\n",
    "    ticker_dict = json.load(f)\n",
    "\n",
    "with open(\"KOSDAQ.json\", \"r\") as f:\n",
    "    ticker_dict.update(json.load(f))\n"
   ]
  },
  {
   "cell_type": "code",
   "execution_count": 11,
   "metadata": {},
   "outputs": [],
   "source": [
    "ticker = \"삼성전자\"\n",
    "df = stock.get_market_ohlcv(\"20220102\", datetime.today().strftime(\"%Y%m%d\"), ticker_dict[ticker])"
   ]
  },
  {
   "cell_type": "code",
   "execution_count": 12,
   "metadata": {},
   "outputs": [],
   "source": [
    "df[\"Range\"] = df[\"고가\"] - df[\"저가\"]\n",
    "df[\"RangePerVolume\"] = (df[\"Range\"] / df[\"거래량\"]) * 100_000"
   ]
  },
  {
   "cell_type": "code",
   "execution_count": 13,
   "metadata": {},
   "outputs": [],
   "source": [
    "rpv_decile =df[\"RangePerVolume\"].quantile(np.linspace(0.1,1.0,num=10))\n",
    "vol_decile =df[\"거래량\"].quantile(np.linspace(0.1,1.0,num=10))"
   ]
  },
  {
   "cell_type": "code",
   "execution_count": 14,
   "metadata": {},
   "outputs": [],
   "source": [
    "# df.index.name = \"Date\"\n",
    "# df = df.set_axis([\"Open\", \"High\", \"Low\", \"Close\", \"Volume\", \"Change(%)\", \"Range\", \"RangePerVolume\"], axis=1)"
   ]
  },
  {
   "cell_type": "code",
   "execution_count": 15,
   "metadata": {},
   "outputs": [],
   "source": [
    "fig = get_candlestick_chart(df)\n"
   ]
  },
  {
   "cell_type": "code",
   "execution_count": 16,
   "metadata": {},
   "outputs": [],
   "source": [
    "fig.add_trace(\n",
    "    go.Scatter(\n",
    "        name=\"Extreme\",\n",
    "         x = [ df.index.min(), df.index.max()  ],\n",
    "         y = [rpv_decile.iloc[-2], rpv_decile.iloc[-2]],\n",
    "        mode = \"lines\",\n",
    "        marker = dict(color=\"blue\"),\n",
    "        opacity=0.2\n",
    "    ), row=3, col=1\n",
    ")\n",
    "fig.add_trace(\n",
    "    go.Scatter(\n",
    "        name=\"Extreme\",\n",
    "         x = [ df.index.min(), df.index.max()  ],\n",
    "         y = [vol_decile.iloc[-2], vol_decile.iloc[-2]],\n",
    "        mode = \"lines\",\n",
    "        marker = dict(color=\"blue\"),\n",
    "        opacity=0.2\n",
    "    ), row=2, col=1\n",
    ")"
   ]
  },
  {
   "cell_type": "code",
   "execution_count": null,
   "metadata": {},
   "outputs": [],
   "source": []
  }
 ],
 "metadata": {
  "kernelspec": {
   "display_name": "finance",
   "language": "python",
   "name": "python3"
  },
  "language_info": {
   "codemirror_mode": {
    "name": "ipython",
    "version": 3
   },
   "file_extension": ".py",
   "mimetype": "text/x-python",
   "name": "python",
   "nbconvert_exporter": "python",
   "pygments_lexer": "ipython3",
   "version": "3.11.0"
  }
 },
 "nbformat": 4,
 "nbformat_minor": 2
}
